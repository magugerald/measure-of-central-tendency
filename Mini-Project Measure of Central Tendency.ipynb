{
 "cells": [
  {
   "cell_type": "markdown",
   "id": "742ed2d8",
   "metadata": {},
   "source": [
    "##  Measure of Central Tendency"
   ]
  },
  {
   "cell_type": "markdown",
   "id": "19535c66",
   "metadata": {},
   "source": [
    "In this mini project, I delved into the exploration of essential statistical measures for sample data, focusing on measures of central tendency such as the mean and mode, as well as measures of variability including variance and standard deviation. "
   ]
  },
  {
   "cell_type": "code",
   "execution_count": 60,
   "id": "4d66eb74",
   "metadata": {},
   "outputs": [],
   "source": [
    "# Libraries\n",
    "import numpy as np\n",
    "from statistics"
   ]
  },
  {
   "cell_type": "markdown",
   "id": "da896eff",
   "metadata": {},
   "source": [
    "### Sample data"
   ]
  },
  {
   "cell_type": "code",
   "execution_count": 13,
   "id": "d4a4859a",
   "metadata": {},
   "outputs": [],
   "source": [
    "# Sample data\n",
    "s1 = 20, 12, 8, 10, 3, 15, 7, 35, 7, 33, 5, 17, 9, 18, 4\n",
    "s2 = 23, 19, 42, 28, 37, 2, 21, 39, 5, 14, 1, 18, 12, 11, 8\n",
    "s3 = 9, 21, 2, 52, 45, 32, 40, 7, 9, 7, 31, 19, 3, 11, 10\n",
    "s4 = 41, 18, 14, 3, 50, 25, 46, 33, 12, 2, 5, 23, 29, 33, 17"
   ]
  },
  {
   "cell_type": "markdown",
   "id": "a565d3d7",
   "metadata": {},
   "source": [
    "### Find and report the Mean of the collective Means of the Samples"
   ]
  },
  {
   "cell_type": "code",
   "execution_count": 43,
   "id": "9068f71a",
   "metadata": {},
   "outputs": [
    {
     "name": "stdout",
     "output_type": "stream",
     "text": [
      "Sample Means: s1 = 13.5333 , s2 = 18.6667 , s3 = 19.8667 , s4 = 23.4\n",
      "Collective Mean: 18.8667\n"
     ]
    }
   ],
   "source": [
    "# Collective Means\n",
    "s1_Mean = round (np.mean(s1),4)\n",
    "s2_Mean = round (np.mean(s2),4)\n",
    "s3_Mean = round (np.mean(s3),4)\n",
    "s4_Mean = round (np.mean(s4),4)\n",
    "\n",
    "sample_means = (s1_Mean, s2_Mean, s3_Mean, s4_Mean)\n",
    "Collective_Mean = round (np.mean (sample_means),4)\n",
    "\n",
    "print('Sample Means:','s1 =',s1_Mean,',', 's2 =',s2_Mean,',', 's3 =', s3_Mean,',', 's4 =', s4_Mean)\n",
    "print ('Collective Mean:', Collective_Mean)"
   ]
  },
  {
   "cell_type": "markdown",
   "id": "b903b170",
   "metadata": {},
   "source": [
    "### Find and report the Median of the Samples collectively"
   ]
  },
  {
   "cell_type": "code",
   "execution_count": 63,
   "id": "7c17a15a",
   "metadata": {},
   "outputs": [
    {
     "name": "stdout",
     "output_type": "stream",
     "text": [
      "Samples Median: s1 = 10.0 , s2 = 18.0 , s3 = 11.0 , s4 = 23.0\n",
      "Collective Median: 16.0\n"
     ]
    }
   ],
   "source": [
    "# Finding the median of the samples\n",
    "s1_Median = np.median(s1)\n",
    "s2_Median = np.median(s2)\n",
    "s3_Median = np.median(s3)\n",
    "s4_Median = np.median(s4)\n",
    "\n",
    "sample_median = (s1_Median, s2_Median, s3_Median, s4_Median)\n",
    "print('Samples Median:','s1 =',s1_Median,',', 's2 =',s2_Median,',', 's3 =', s3_Median,',', 's4 =', s4_Median)\n",
    "\n",
    "all_sample = s1+s2+s3+s4\n",
    "Collective_Median = np.median(all_sample)\n",
    "print ('Collective Median:', Collective_Median)"
   ]
  },
  {
   "cell_type": "markdown",
   "id": "57fe6f96",
   "metadata": {},
   "source": [
    "### Find and report the Mode of the Samples"
   ]
  },
  {
   "cell_type": "code",
   "execution_count": 64,
   "id": "0760a750",
   "metadata": {},
   "outputs": [
    {
     "name": "stdout",
     "output_type": "stream",
     "text": [
      "Samples Mode: s1 = 7 , s2 = 23 , s3 = 9 , s4 = 33\n"
     ]
    }
   ],
   "source": [
    "# Finding the mode of the samples\n",
    "s1_Mode = mode(s1)\n",
    "s2_Mode = mode(s2)\n",
    "s3_Mode = mode(s3)\n",
    "s4_Mode = mode(s4)\n",
    "\n",
    "sample_mode = (s1_Mode, s2_Mode, s3_Mode, s4_Mode)\n",
    "print('Samples Mode:','s1 =',s1_Mode,',', 's2 =',s2_Mode,',', 's3 =', s3_Mode,',', 's4 =', s4_Mode)"
   ]
  },
  {
   "cell_type": "markdown",
   "id": "6ac53e85",
   "metadata": {},
   "source": [
    "### Find and report the Variance of the Samples collectively"
   ]
  },
  {
   "cell_type": "code",
   "execution_count": 67,
   "id": "48e76e33",
   "metadata": {},
   "outputs": [
    {
     "name": "stdout",
     "output_type": "stream",
     "text": [
      "Samples Variance: s1 = 95.8381 , s2 = 172.9524 , s3 = 263.5524 , s4 = 231.9714\n",
      "Collective Variance: 194.0836\n"
     ]
    }
   ],
   "source": [
    "# The variance of the sample is np.mode\n",
    "s1_variance = round (statistics.variance(s1),4)\n",
    "s2_variance = round (statistics.variance(s2),4)\n",
    "s3_variance = round (statistics.variance(s3),4)\n",
    "s4_variance = round (statistics.variance(s4),4)\n",
    "\n",
    "sample_mode = (s1_variance, s2_variance, s3_variance, s4_variance)\n",
    "print('Samples Variance:','s1 =',s1_variance,',', 's2 =',s2_variance,',', 's3 =', s3_variance,',', 's4 =', s4_variance)\n",
    "\n",
    "all_sample = s1+s2+s3+s4\n",
    "variance_of_sample = statistics.variance(all_sample)\n",
    "print('Collective Variance:', round (variance_of_sample, 4))"
   ]
  },
  {
   "cell_type": "markdown",
   "id": "00682cc9",
   "metadata": {},
   "source": [
    "### Find and report the Standard Deviation of the Samples collectively"
   ]
  },
  {
   "cell_type": "code",
   "execution_count": 70,
   "id": "c09ce1db",
   "metadata": {},
   "outputs": [
    {
     "name": "stdout",
     "output_type": "stream",
     "text": [
      "Samples standard deviation: s1 = 9.4577 , s2 = 12.7052 , s3 = 15.6838 , s4 = 14.7142\n",
      "Collective standard deviation: 13.8148\n"
     ]
    }
   ],
   "source": [
    "# The variance of the sample\n",
    "s1_std = round (np.std(s1),4)\n",
    "s2_std = round (np.std(s2),4)\n",
    "s3_std = round (np.std(s3),4)\n",
    "s4_std = round (np.std(s4),4)\n",
    "\n",
    "sample_mode = (s1_std, s2_std, s3_std, s4_std)\n",
    "print('Samples standard deviation:','s1 =',s1_std,',', 's2 =',s2_std,',', 's3 =', s3_std,',', 's4 =', s4_std)\n",
    "\n",
    "all_sample = s1+s2+s3+s4\n",
    "std_of_sample = np.std (all_sample)\n",
    "print('Collective standard deviation:', round (std_of_sample, 4))"
   ]
  },
  {
   "cell_type": "markdown",
   "id": "59133ce0",
   "metadata": {},
   "source": [
    "## The End"
   ]
  }
 ],
 "metadata": {
  "kernelspec": {
   "display_name": "Python 3 (ipykernel)",
   "language": "python",
   "name": "python3"
  },
  "language_info": {
   "codemirror_mode": {
    "name": "ipython",
    "version": 3
   },
   "file_extension": ".py",
   "mimetype": "text/x-python",
   "name": "python",
   "nbconvert_exporter": "python",
   "pygments_lexer": "ipython3",
   "version": "3.9.7"
  }
 },
 "nbformat": 4,
 "nbformat_minor": 5
}
